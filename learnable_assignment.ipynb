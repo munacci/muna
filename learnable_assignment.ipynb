{
  "nbformat": 4,
  "nbformat_minor": 0,
  "metadata": {
    "colab": {
      "provenance": [],
      "authorship_tag": "ABX9TyPQiuFHNqtCQH4y/lcb0r4/",
      "include_colab_link": true
    },
    "kernelspec": {
      "name": "python3",
      "display_name": "Python 3"
    },
    "language_info": {
      "name": "python"
    }
  },
  "cells": [
    {
      "cell_type": "markdown",
      "metadata": {
        "id": "view-in-github",
        "colab_type": "text"
      },
      "source": [
        "<a href=\"https://colab.research.google.com/github/munacci/muna/blob/main/learnable_assignment.ipynb\" target=\"_parent\"><img src=\"https://colab.research.google.com/assets/colab-badge.svg\" alt=\"Open In Colab\"/></a>"
      ]
    },
    {
      "cell_type": "code",
      "source": [
        "def calculate_grades(*scores):\n",
        "    \"\"\"\n",
        "    Function to determine grades based on scores.\n",
        "    For this exercise, your goal is to write a function that takes student scores as input, and outputs grades.\n",
        "\n",
        "Use the following grading criteria for input scores\n",
        "\n",
        "100 - 70 = A\n",
        "\n",
        "69 - 65 = B\n",
        "\n",
        "64 - 55 = C\n",
        "\n",
        "54 - 45 = D\n",
        "\n",
        "44 - 0 = F\n",
        "    Takes multiple scores and prints their corresponding grades.\n",
        "    \"\"\"\n",
        "\n",
        "    for score in scores:\n",
        "        if 70 <= score <= 100:\n",
        "            grade = \"A\"\n",
        "        elif 65 <= score <= 69:\n",
        "            grade = \"B\"\n",
        "        elif 55 <= score <= 64:\n",
        "            grade = \"C\"\n",
        "        elif 45 <= score <= 54:\n",
        "            grade = \"D\"\n",
        "        elif 0 <= score <= 44:\n",
        "            grade = \"F\"\n",
        "        else:\n",
        "            grade = \"Invalid Score\"\n",
        "\n",
        "        print (f\"Score: {score} => Grade: {grade}\")\n",
        "\n",
        "# inputing suggested students score\n",
        "scores = (85, 67, 50, 30, 95)  # User types numbers as scores\n",
        "\n",
        "# Call the function with suggested scores input\n",
        "calculate_grades(*scores)"
      ],
      "metadata": {
        "colab": {
          "base_uri": "https://localhost:8080/"
        },
        "id": "6ppk2EOuqM1O",
        "outputId": "3b46944f-fbc8-4d37-b8a2-106ed27a5591"
      },
      "execution_count": 12,
      "outputs": [
        {
          "output_type": "stream",
          "name": "stdout",
          "text": [
            "Score: 85 => Grade: A\n",
            "Score: 67 => Grade: B\n",
            "Score: 50 => Grade: D\n",
            "Score: 30 => Grade: F\n",
            "Score: 95 => Grade: A\n"
          ]
        }
      ]
    }
  ]
}